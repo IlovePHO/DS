{
 "cells": [
  {
   "cell_type": "code",
   "execution_count": 1,
   "metadata": {},
   "outputs": [],
   "source": [
    "import numpy as np\n",
    "import pandas as pd\n",
    "import seaborn as sns\n",
    "import matplotlib.pyplot as plt\n",
    "import warnings\n",
    "warnings.filterwarnings('ignore')\n",
    "%matplotlib inline"
   ]
  },
  {
   "cell_type": "markdown",
   "metadata": {},
   "source": [
    "### EDA"
   ]
  },
  {
   "cell_type": "code",
   "execution_count": 2,
   "metadata": {},
   "outputs": [
    {
     "data": {
      "text/html": [
       "<div>\n",
       "<style scoped>\n",
       "    .dataframe tbody tr th:only-of-type {\n",
       "        vertical-align: middle;\n",
       "    }\n",
       "\n",
       "    .dataframe tbody tr th {\n",
       "        vertical-align: top;\n",
       "    }\n",
       "\n",
       "    .dataframe thead th {\n",
       "        text-align: right;\n",
       "    }\n",
       "</style>\n",
       "<table border=\"1\" class=\"dataframe\">\n",
       "  <thead>\n",
       "    <tr style=\"text-align: right;\">\n",
       "      <th></th>\n",
       "      <th>kjønn</th>\n",
       "      <th>utdanning</th>\n",
       "      <th>erfaring</th>\n",
       "      <th>arbeidssted</th>\n",
       "      <th>arbeidssituasjon</th>\n",
       "      <th>fag</th>\n",
       "      <th>lønn</th>\n",
       "      <th>bonus?</th>\n",
       "    </tr>\n",
       "  </thead>\n",
       "  <tbody>\n",
       "    <tr>\n",
       "      <th>0</th>\n",
       "      <td>mann</td>\n",
       "      <td>4</td>\n",
       "      <td>7</td>\n",
       "      <td>Agder</td>\n",
       "      <td>in-house, privat sektor</td>\n",
       "      <td>AI / maskinlæring</td>\n",
       "      <td>865000</td>\n",
       "      <td>Nei</td>\n",
       "    </tr>\n",
       "    <tr>\n",
       "      <th>1</th>\n",
       "      <td>mann</td>\n",
       "      <td>5</td>\n",
       "      <td>2</td>\n",
       "      <td>Nordland</td>\n",
       "      <td>in-house, offentlig/kommunal sektor</td>\n",
       "      <td>AI / maskinlæring</td>\n",
       "      <td>756000</td>\n",
       "      <td>Nei</td>\n",
       "    </tr>\n",
       "    <tr>\n",
       "      <th>2</th>\n",
       "      <td>mann</td>\n",
       "      <td>4</td>\n",
       "      <td>30</td>\n",
       "      <td>Oslo</td>\n",
       "      <td>konsulent</td>\n",
       "      <td>AI / maskinlæring</td>\n",
       "      <td>1500000</td>\n",
       "      <td>Nei</td>\n",
       "    </tr>\n",
       "    <tr>\n",
       "      <th>3</th>\n",
       "      <td>mann</td>\n",
       "      <td>5</td>\n",
       "      <td>25</td>\n",
       "      <td>Oslo</td>\n",
       "      <td>konsulent</td>\n",
       "      <td>AI / maskinlæring</td>\n",
       "      <td>1200000</td>\n",
       "      <td>Nei</td>\n",
       "    </tr>\n",
       "    <tr>\n",
       "      <th>4</th>\n",
       "      <td>mann</td>\n",
       "      <td>9</td>\n",
       "      <td>18</td>\n",
       "      <td>Oslo</td>\n",
       "      <td>in-house, privat sektor</td>\n",
       "      <td>AI / maskinlæring</td>\n",
       "      <td>1200000</td>\n",
       "      <td>Nei</td>\n",
       "    </tr>\n",
       "    <tr>\n",
       "      <th>...</th>\n",
       "      <td>...</td>\n",
       "      <td>...</td>\n",
       "      <td>...</td>\n",
       "      <td>...</td>\n",
       "      <td>...</td>\n",
       "      <td>...</td>\n",
       "      <td>...</td>\n",
       "      <td>...</td>\n",
       "    </tr>\n",
       "    <tr>\n",
       "      <th>2677</th>\n",
       "      <td>mann</td>\n",
       "      <td>3</td>\n",
       "      <td>14</td>\n",
       "      <td>Vestfold og Telemark</td>\n",
       "      <td>in-house, offentlig/kommunal sektor</td>\n",
       "      <td>UX / design</td>\n",
       "      <td>720000</td>\n",
       "      <td>Nei</td>\n",
       "    </tr>\n",
       "    <tr>\n",
       "      <th>2678</th>\n",
       "      <td>mann</td>\n",
       "      <td>5</td>\n",
       "      <td>8</td>\n",
       "      <td>Vestland</td>\n",
       "      <td>konsulent</td>\n",
       "      <td>UX / design</td>\n",
       "      <td>875000</td>\n",
       "      <td>Nei</td>\n",
       "    </tr>\n",
       "    <tr>\n",
       "      <th>2679</th>\n",
       "      <td>mann</td>\n",
       "      <td>0</td>\n",
       "      <td>23</td>\n",
       "      <td>Viken</td>\n",
       "      <td>in-house, privat sektor</td>\n",
       "      <td>UX / design</td>\n",
       "      <td>1300000</td>\n",
       "      <td>Nei</td>\n",
       "    </tr>\n",
       "    <tr>\n",
       "      <th>2680</th>\n",
       "      <td>mann</td>\n",
       "      <td>3</td>\n",
       "      <td>15</td>\n",
       "      <td>Viken</td>\n",
       "      <td>konsulent</td>\n",
       "      <td>UX / design</td>\n",
       "      <td>1000000</td>\n",
       "      <td>Ja</td>\n",
       "    </tr>\n",
       "    <tr>\n",
       "      <th>2681</th>\n",
       "      <td>kvinne</td>\n",
       "      <td>3</td>\n",
       "      <td>1</td>\n",
       "      <td>Viken</td>\n",
       "      <td>in-house, privat sektor</td>\n",
       "      <td>UX / design</td>\n",
       "      <td>665000</td>\n",
       "      <td>Nei</td>\n",
       "    </tr>\n",
       "  </tbody>\n",
       "</table>\n",
       "<p>2682 rows × 8 columns</p>\n",
       "</div>"
      ],
      "text/plain": [
       "       kjønn  utdanning  erfaring           arbeidssted  \\\n",
       "0       mann          4         7                 Agder   \n",
       "1       mann          5         2              Nordland   \n",
       "2       mann          4        30                  Oslo   \n",
       "3       mann          5        25                  Oslo   \n",
       "4       mann          9        18                  Oslo   \n",
       "...      ...        ...       ...                   ...   \n",
       "2677    mann          3        14  Vestfold og Telemark   \n",
       "2678    mann          5         8              Vestland   \n",
       "2679    mann          0        23                 Viken   \n",
       "2680    mann          3        15                 Viken   \n",
       "2681  kvinne          3         1                 Viken   \n",
       "\n",
       "                         arbeidssituasjon                fag     lønn bonus?  \n",
       "0                 in-house, privat sektor  AI / maskinlæring   865000    Nei  \n",
       "1     in-house, offentlig/kommunal sektor  AI / maskinlæring   756000    Nei  \n",
       "2                               konsulent  AI / maskinlæring  1500000    Nei  \n",
       "3                               konsulent  AI / maskinlæring  1200000    Nei  \n",
       "4                 in-house, privat sektor  AI / maskinlæring  1200000    Nei  \n",
       "...                                   ...                ...      ...    ...  \n",
       "2677  in-house, offentlig/kommunal sektor        UX / design   720000    Nei  \n",
       "2678                            konsulent        UX / design   875000    Nei  \n",
       "2679              in-house, privat sektor        UX / design  1300000    Nei  \n",
       "2680                            konsulent        UX / design  1000000     Ja  \n",
       "2681              in-house, privat sektor        UX / design   665000    Nei  \n",
       "\n",
       "[2682 rows x 8 columns]"
      ]
     },
     "execution_count": 2,
     "metadata": {},
     "output_type": "execute_result"
    }
   ],
   "source": [
    "data = pd.read_csv('./data/salaries.csv')\n",
    "data"
   ]
  },
  {
   "cell_type": "markdown",
   "metadata": {},
   "source": [
    "### Data Cleaning and Preprocessing"
   ]
  },
  {
   "cell_type": "code",
   "execution_count": 3,
   "metadata": {},
   "outputs": [
    {
     "data": {
      "text/plain": [
       "gender            0\n",
       "education         0\n",
       "experience        0\n",
       "workplace         0\n",
       "work_situation    0\n",
       "field             0\n",
       "salary            0\n",
       "bonus             0\n",
       "dtype: int64"
      ]
     },
     "execution_count": 3,
     "metadata": {},
     "output_type": "execute_result"
    }
   ],
   "source": [
    "# Renaming columns for clarity\n",
    "data.columns = ['gender', 'education', 'experience', 'workplace', 'work_situation', 'field', 'salary', 'bonus']\n",
    "\n",
    "# check missing values\n",
    "\n",
    "missing_values = data.isnull().sum()\n",
    "missing_values"
   ]
  },
  {
   "cell_type": "code",
   "execution_count": 4,
   "metadata": {},
   "outputs": [
    {
     "data": {
      "image/png": "[encoded data removed]",
      "text/plain": [
       "<Figure size 640x480 with 1 Axes>"
      ]
     },
     "metadata": {},
     "output_type": "display_data"
    }
   ],
   "source": [
    "# Distribution of salaries\n",
    "sns.histplot(data['salary'], kde=True)\n",
    "plt.title('Distribution of salary')\n",
    "plt.xlabel('Salary')\n",
    "plt.ylabel('Frequency')\n",
    "plt.show()"
   ]
  },
  {
   "cell_type": "code",
   "execution_count": 5,
   "metadata": {},
   "outputs": [
    {
     "data": {
      "image/png": "[encoded data removed]",
      "text/plain": [
       "<Figure size 640x480 with 2 Axes>"
      ]
     },
     "metadata": {},
     "output_type": "display_data"
    }
   ],
   "source": [
    "# Correlation heatmap\n",
    "numeric_data = data.select_dtypes(include=[np.number])\n",
    "correclation_matrix = numeric_data.corr()\n",
    "sns.heatmap(correclation_matrix, annot=True, cmap='coolwarm')\n",
    "plt.title('Correclation Heatmap')\n",
    "plt.show()"
   ]
  },
  {
   "cell_type": "markdown",
   "metadata": {},
   "source": [
    "### Predictive Modeling"
   ]
  },
  {
   "cell_type": "code",
   "execution_count": 9,
   "metadata": {},
   "outputs": [
    {
     "data": {
      "text/plain": [
       "(64550840601.53358, 0.25339654308514825)"
      ]
     },
     "execution_count": 9,
     "metadata": {},
     "output_type": "execute_result"
    }
   ],
   "source": [
    "from sklearn.model_selection import train_test_split\n",
    "from sklearn.linear_model import LinearRegression\n",
    "from sklearn.metrics import mean_squared_error, r2_score\n",
    "\n",
    "# Prepare the data for modeling\n",
    "X = data[['education', 'experience']]\n",
    "y = data['salary']\n",
    "\n",
    "# Split the data into training and testing sets\n",
    "X_train, X_test, y_train, y_test = train_test_split(X, y, test_size=0.2, random_state=42)\n",
    "\n",
    "# Initialize and train the model\n",
    "model = LinearRegression()\n",
    "model.fit(X_train, y_train)\n",
    "\n",
    "# Make predictions\n",
    "y_pred = model.predict(X_test)\n",
    "\n",
    "# Evaluate the model\n",
    "mse = mean_squared_error(y_test, y_pred)\n",
    "r2 = r2_score(y_test, y_pred)\n",
    "\n",
    "mse, r2"
   ]
  },
  {
   "cell_type": "markdown",
   "metadata": {},
   "source": [
    "Conclusion and Future Work\n",
    "In this notebook, we explored the developer salary data for Norway in 2024. We cleaned the data, performed exploratory data analysis, and built a simple predictive model. While the linear regression model provided some insights, there is room for improvement. Future work could involve exploring more complex models, incorporating additional features, or even considering external data sources to enhance predictions."
   ]
  }
 ],
 "metadata": {
  "kernelspec": {
   "display_name": "Python 3",
   "language": "python",
   "name": "python3"
  },
  "language_info": {
   "codemirror_mode": {
    "name": "ipython",
    "version": 3
   },
   "file_extension": ".py",
   "mimetype": "text/x-python",
   "name": "python",
   "nbconvert_exporter": "python",
   "pygments_lexer": "ipython3",
   "version": "3.13.1"
  }
 },
 "nbformat": 4,
 "nbformat_minor": 2
}
