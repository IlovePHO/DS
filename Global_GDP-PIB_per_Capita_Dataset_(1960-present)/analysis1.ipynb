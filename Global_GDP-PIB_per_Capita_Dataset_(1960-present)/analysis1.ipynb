{
 "cells": [
  {
   "cell_type": "code",
   "execution_count": 19,
   "metadata": {},
   "outputs": [],
   "source": [
    "import pandas as pd\n",
    "import matplotlib.pyplot as plt\n",
    "import seaborn as sns\n",
    "import numpy as np\n",
    "from scipy.stats import gaussian_kde\n",
    "\n",
    "import plotly.express as px\n",
    "import plotly.graph_objects as go\n",
    "\n",
    "kaggle = True\n",
    "\n",
    "height = 800"
   ]
  },
  {
   "cell_type": "code",
   "execution_count": 20,
   "metadata": {},
   "outputs": [
    {
     "data": {
      "text/html": [
       "<div>\n",
       "<style scoped>\n",
       "    .dataframe tbody tr th:only-of-type {\n",
       "        vertical-align: middle;\n",
       "    }\n",
       "\n",
       "    .dataframe tbody tr th {\n",
       "        vertical-align: top;\n",
       "    }\n",
       "\n",
       "    .dataframe thead th {\n",
       "        text-align: right;\n",
       "    }\n",
       "</style>\n",
       "<table border=\"1\" class=\"dataframe\">\n",
       "  <thead>\n",
       "    <tr style=\"text-align: right;\">\n",
       "      <th></th>\n",
       "      <th>country_code</th>\n",
       "      <th>country_name</th>\n",
       "      <th>region</th>\n",
       "      <th>sub_region</th>\n",
       "      <th>intermediate_region</th>\n",
       "      <th>indicator_code</th>\n",
       "      <th>indicator_name</th>\n",
       "      <th>year</th>\n",
       "      <th>gdp_per_capita</th>\n",
       "      <th>gdp_variation</th>\n",
       "    </tr>\n",
       "  </thead>\n",
       "  <tbody>\n",
       "    <tr>\n",
       "      <th>0</th>\n",
       "      <td>AFG</td>\n",
       "      <td>AFGANISTAN</td>\n",
       "      <td>ASIA MERIDIONAL</td>\n",
       "      <td>SOUTHERN ASIA</td>\n",
       "      <td>NaN</td>\n",
       "      <td>NY.GDP.PCAP.CD</td>\n",
       "      <td>PIB PER CAPITA (US$ A PRECIOS ACTUALES)</td>\n",
       "      <td>1960</td>\n",
       "      <td>0.000000</td>\n",
       "      <td>0.000000</td>\n",
       "    </tr>\n",
       "    <tr>\n",
       "      <th>1</th>\n",
       "      <td>AFG</td>\n",
       "      <td>AFGANISTAN</td>\n",
       "      <td>ASIA MERIDIONAL</td>\n",
       "      <td>SOUTHERN ASIA</td>\n",
       "      <td>NaN</td>\n",
       "      <td>NY.GDP.PCAP.CD</td>\n",
       "      <td>PIB PER CAPITA (US$ A PRECIOS ACTUALES)</td>\n",
       "      <td>1961</td>\n",
       "      <td>0.000000</td>\n",
       "      <td>0.000000</td>\n",
       "    </tr>\n",
       "    <tr>\n",
       "      <th>2</th>\n",
       "      <td>AFG</td>\n",
       "      <td>AFGANISTAN</td>\n",
       "      <td>ASIA MERIDIONAL</td>\n",
       "      <td>SOUTHERN ASIA</td>\n",
       "      <td>NaN</td>\n",
       "      <td>NY.GDP.PCAP.CD</td>\n",
       "      <td>PIB PER CAPITA (US$ A PRECIOS ACTUALES)</td>\n",
       "      <td>1962</td>\n",
       "      <td>0.000000</td>\n",
       "      <td>0.000000</td>\n",
       "    </tr>\n",
       "    <tr>\n",
       "      <th>3</th>\n",
       "      <td>AFG</td>\n",
       "      <td>AFGANISTAN</td>\n",
       "      <td>ASIA MERIDIONAL</td>\n",
       "      <td>SOUTHERN ASIA</td>\n",
       "      <td>NaN</td>\n",
       "      <td>NY.GDP.PCAP.CD</td>\n",
       "      <td>PIB PER CAPITA (US$ A PRECIOS ACTUALES)</td>\n",
       "      <td>1963</td>\n",
       "      <td>0.000000</td>\n",
       "      <td>0.000000</td>\n",
       "    </tr>\n",
       "    <tr>\n",
       "      <th>4</th>\n",
       "      <td>AFG</td>\n",
       "      <td>AFGANISTAN</td>\n",
       "      <td>ASIA MERIDIONAL</td>\n",
       "      <td>SOUTHERN ASIA</td>\n",
       "      <td>NaN</td>\n",
       "      <td>NY.GDP.PCAP.CD</td>\n",
       "      <td>PIB PER CAPITA (US$ A PRECIOS ACTUALES)</td>\n",
       "      <td>1964</td>\n",
       "      <td>0.000000</td>\n",
       "      <td>0.000000</td>\n",
       "    </tr>\n",
       "    <tr>\n",
       "      <th>...</th>\n",
       "      <td>...</td>\n",
       "      <td>...</td>\n",
       "      <td>...</td>\n",
       "      <td>...</td>\n",
       "      <td>...</td>\n",
       "      <td>...</td>\n",
       "      <td>...</td>\n",
       "      <td>...</td>\n",
       "      <td>...</td>\n",
       "      <td>...</td>\n",
       "    </tr>\n",
       "    <tr>\n",
       "      <th>13755</th>\n",
       "      <td>ZWE</td>\n",
       "      <td>ZIMBABWE</td>\n",
       "      <td>ÁFRICA AL SUR DEL SAHARA (EXCLUIDO ALTOS INGRE...</td>\n",
       "      <td>SUB-SAHARAN AFRICA</td>\n",
       "      <td>EASTERN AFRICA</td>\n",
       "      <td>NY.GDP.PCAP.CD</td>\n",
       "      <td>PIB PER CAPITA (US$ A PRECIOS ACTUALES)</td>\n",
       "      <td>2019</td>\n",
       "      <td>1684.027904</td>\n",
       "      <td>-7.785580</td>\n",
       "    </tr>\n",
       "    <tr>\n",
       "      <th>13756</th>\n",
       "      <td>ZWE</td>\n",
       "      <td>ZIMBABWE</td>\n",
       "      <td>ÁFRICA AL SUR DEL SAHARA (EXCLUIDO ALTOS INGRE...</td>\n",
       "      <td>SUB-SAHARAN AFRICA</td>\n",
       "      <td>EASTERN AFRICA</td>\n",
       "      <td>NY.GDP.PCAP.CD</td>\n",
       "      <td>PIB PER CAPITA (US$ A PRECIOS ACTUALES)</td>\n",
       "      <td>2020</td>\n",
       "      <td>1730.413489</td>\n",
       "      <td>-9.333971</td>\n",
       "    </tr>\n",
       "    <tr>\n",
       "      <th>13757</th>\n",
       "      <td>ZWE</td>\n",
       "      <td>ZIMBABWE</td>\n",
       "      <td>ÁFRICA AL SUR DEL SAHARA (EXCLUIDO ALTOS INGRE...</td>\n",
       "      <td>SUB-SAHARAN AFRICA</td>\n",
       "      <td>EASTERN AFRICA</td>\n",
       "      <td>NY.GDP.PCAP.CD</td>\n",
       "      <td>PIB PER CAPITA (US$ A PRECIOS ACTUALES)</td>\n",
       "      <td>2021</td>\n",
       "      <td>1724.387731</td>\n",
       "      <td>6.611911</td>\n",
       "    </tr>\n",
       "    <tr>\n",
       "      <th>13758</th>\n",
       "      <td>ZWE</td>\n",
       "      <td>ZIMBABWE</td>\n",
       "      <td>ÁFRICA AL SUR DEL SAHARA (EXCLUIDO ALTOS INGRE...</td>\n",
       "      <td>SUB-SAHARAN AFRICA</td>\n",
       "      <td>EASTERN AFRICA</td>\n",
       "      <td>NY.GDP.PCAP.CD</td>\n",
       "      <td>PIB PER CAPITA (US$ A PRECIOS ACTUALES)</td>\n",
       "      <td>2022</td>\n",
       "      <td>2040.552459</td>\n",
       "      <td>4.343667</td>\n",
       "    </tr>\n",
       "    <tr>\n",
       "      <th>13759</th>\n",
       "      <td>ZWE</td>\n",
       "      <td>ZIMBABWE</td>\n",
       "      <td>ÁFRICA AL SUR DEL SAHARA (EXCLUIDO ALTOS INGRE...</td>\n",
       "      <td>SUB-SAHARAN AFRICA</td>\n",
       "      <td>EASTERN AFRICA</td>\n",
       "      <td>NY.GDP.PCAP.CD</td>\n",
       "      <td>PIB PER CAPITA (US$ A PRECIOS ACTUALES)</td>\n",
       "      <td>2023</td>\n",
       "      <td>2156.034004</td>\n",
       "      <td>NaN</td>\n",
       "    </tr>\n",
       "  </tbody>\n",
       "</table>\n",
       "<p>13760 rows × 10 columns</p>\n",
       "</div>"
      ],
      "text/plain": [
       "      country_code country_name  \\\n",
       "0              AFG   AFGANISTAN   \n",
       "1              AFG   AFGANISTAN   \n",
       "2              AFG   AFGANISTAN   \n",
       "3              AFG   AFGANISTAN   \n",
       "4              AFG   AFGANISTAN   \n",
       "...            ...          ...   \n",
       "13755          ZWE     ZIMBABWE   \n",
       "13756          ZWE     ZIMBABWE   \n",
       "13757          ZWE     ZIMBABWE   \n",
       "13758          ZWE     ZIMBABWE   \n",
       "13759          ZWE     ZIMBABWE   \n",
       "\n",
       "                                                  region          sub_region  \\\n",
       "0                                        ASIA MERIDIONAL       SOUTHERN ASIA   \n",
       "1                                        ASIA MERIDIONAL       SOUTHERN ASIA   \n",
       "2                                        ASIA MERIDIONAL       SOUTHERN ASIA   \n",
       "3                                        ASIA MERIDIONAL       SOUTHERN ASIA   \n",
       "4                                        ASIA MERIDIONAL       SOUTHERN ASIA   \n",
       "...                                                  ...                 ...   \n",
       "13755  ÁFRICA AL SUR DEL SAHARA (EXCLUIDO ALTOS INGRE...  SUB-SAHARAN AFRICA   \n",
       "13756  ÁFRICA AL SUR DEL SAHARA (EXCLUIDO ALTOS INGRE...  SUB-SAHARAN AFRICA   \n",
       "13757  ÁFRICA AL SUR DEL SAHARA (EXCLUIDO ALTOS INGRE...  SUB-SAHARAN AFRICA   \n",
       "13758  ÁFRICA AL SUR DEL SAHARA (EXCLUIDO ALTOS INGRE...  SUB-SAHARAN AFRICA   \n",
       "13759  ÁFRICA AL SUR DEL SAHARA (EXCLUIDO ALTOS INGRE...  SUB-SAHARAN AFRICA   \n",
       "\n",
       "      intermediate_region  indicator_code  \\\n",
       "0                     NaN  NY.GDP.PCAP.CD   \n",
       "1                     NaN  NY.GDP.PCAP.CD   \n",
       "2                     NaN  NY.GDP.PCAP.CD   \n",
       "3                     NaN  NY.GDP.PCAP.CD   \n",
       "4                     NaN  NY.GDP.PCAP.CD   \n",
       "...                   ...             ...   \n",
       "13755      EASTERN AFRICA  NY.GDP.PCAP.CD   \n",
       "13756      EASTERN AFRICA  NY.GDP.PCAP.CD   \n",
       "13757      EASTERN AFRICA  NY.GDP.PCAP.CD   \n",
       "13758      EASTERN AFRICA  NY.GDP.PCAP.CD   \n",
       "13759      EASTERN AFRICA  NY.GDP.PCAP.CD   \n",
       "\n",
       "                                indicator_name  year  gdp_per_capita  \\\n",
       "0      PIB PER CAPITA (US$ A PRECIOS ACTUALES)  1960        0.000000   \n",
       "1      PIB PER CAPITA (US$ A PRECIOS ACTUALES)  1961        0.000000   \n",
       "2      PIB PER CAPITA (US$ A PRECIOS ACTUALES)  1962        0.000000   \n",
       "3      PIB PER CAPITA (US$ A PRECIOS ACTUALES)  1963        0.000000   \n",
       "4      PIB PER CAPITA (US$ A PRECIOS ACTUALES)  1964        0.000000   \n",
       "...                                        ...   ...             ...   \n",
       "13755  PIB PER CAPITA (US$ A PRECIOS ACTUALES)  2019     1684.027904   \n",
       "13756  PIB PER CAPITA (US$ A PRECIOS ACTUALES)  2020     1730.413489   \n",
       "13757  PIB PER CAPITA (US$ A PRECIOS ACTUALES)  2021     1724.387731   \n",
       "13758  PIB PER CAPITA (US$ A PRECIOS ACTUALES)  2022     2040.552459   \n",
       "13759  PIB PER CAPITA (US$ A PRECIOS ACTUALES)  2023     2156.034004   \n",
       "\n",
       "       gdp_variation  \n",
       "0           0.000000  \n",
       "1           0.000000  \n",
       "2           0.000000  \n",
       "3           0.000000  \n",
       "4           0.000000  \n",
       "...              ...  \n",
       "13755      -7.785580  \n",
       "13756      -9.333971  \n",
       "13757       6.611911  \n",
       "13758       4.343667  \n",
       "13759            NaN  \n",
       "\n",
       "[13760 rows x 10 columns]"
      ]
     },
     "execution_count": 20,
     "metadata": {},
     "output_type": "execute_result"
    }
   ],
   "source": [
    "df_data = pd.read_csv('./data/pib_per_capita_countries_dataset.csv')\n",
    "df_data"
   ]
  },
  {
   "cell_type": "code",
   "execution_count": 21,
   "metadata": {},
   "outputs": [
    {
     "name": "stdout",
     "output_type": "stream",
     "text": [
      "<class 'pandas.core.frame.DataFrame'>\n",
      "RangeIndex: 13760 entries, 0 to 13759\n",
      "Data columns (total 10 columns):\n",
      " #   Column               Non-Null Count  Dtype  \n",
      "---  ------               --------------  -----  \n",
      " 0   country_code         13760 non-null  object \n",
      " 1   country_name         13760 non-null  object \n",
      " 2   region               8320 non-null   object \n",
      " 3   sub_region           13760 non-null  object \n",
      " 4   intermediate_region  5760 non-null   object \n",
      " 5   indicator_code       13760 non-null  object \n",
      " 6   indicator_name       13760 non-null  object \n",
      " 7   year                 13760 non-null  int64  \n",
      " 8   gdp_per_capita       13760 non-null  float64\n",
      " 9   gdp_variation        13545 non-null  float64\n",
      "dtypes: float64(2), int64(1), object(7)\n",
      "memory usage: 1.0+ MB\n"
     ]
    }
   ],
   "source": [
    "df_data.info()"
   ]
  },
  {
   "cell_type": "code",
   "execution_count": 22,
   "metadata": {},
   "outputs": [
    {
     "data": {
      "text/html": [
       "<div>\n",
       "<style scoped>\n",
       "    .dataframe tbody tr th:only-of-type {\n",
       "        vertical-align: middle;\n",
       "    }\n",
       "\n",
       "    .dataframe tbody tr th {\n",
       "        vertical-align: top;\n",
       "    }\n",
       "\n",
       "    .dataframe thead th {\n",
       "        text-align: right;\n",
       "    }\n",
       "</style>\n",
       "<table border=\"1\" class=\"dataframe\">\n",
       "  <thead>\n",
       "    <tr style=\"text-align: right;\">\n",
       "      <th></th>\n",
       "      <th>year</th>\n",
       "      <th>gdp_per_capita</th>\n",
       "      <th>gdp_variation</th>\n",
       "    </tr>\n",
       "  </thead>\n",
       "  <tbody>\n",
       "    <tr>\n",
       "      <th>count</th>\n",
       "      <td>13760.000000</td>\n",
       "      <td>13760.000000</td>\n",
       "      <td>1.354500e+04</td>\n",
       "    </tr>\n",
       "    <tr>\n",
       "      <th>mean</th>\n",
       "      <td>1991.500000</td>\n",
       "      <td>7654.829033</td>\n",
       "      <td>7.256966e+03</td>\n",
       "    </tr>\n",
       "    <tr>\n",
       "      <th>std</th>\n",
       "      <td>18.473624</td>\n",
       "      <td>17076.866349</td>\n",
       "      <td>8.444125e+05</td>\n",
       "    </tr>\n",
       "    <tr>\n",
       "      <th>min</th>\n",
       "      <td>1960.000000</td>\n",
       "      <td>0.000000</td>\n",
       "      <td>-6.442358e+01</td>\n",
       "    </tr>\n",
       "    <tr>\n",
       "      <th>25%</th>\n",
       "      <td>1975.750000</td>\n",
       "      <td>225.615482</td>\n",
       "      <td>0.000000e+00</td>\n",
       "    </tr>\n",
       "    <tr>\n",
       "      <th>50%</th>\n",
       "      <td>1991.500000</td>\n",
       "      <td>1210.690043</td>\n",
       "      <td>9.432133e-01</td>\n",
       "    </tr>\n",
       "    <tr>\n",
       "      <th>75%</th>\n",
       "      <td>2007.250000</td>\n",
       "      <td>6331.442354</td>\n",
       "      <td>3.816873e+00</td>\n",
       "    </tr>\n",
       "    <tr>\n",
       "      <th>max</th>\n",
       "      <td>2023.000000</td>\n",
       "      <td>256580.515123</td>\n",
       "      <td>9.827525e+07</td>\n",
       "    </tr>\n",
       "  </tbody>\n",
       "</table>\n",
       "</div>"
      ],
      "text/plain": [
       "               year  gdp_per_capita  gdp_variation\n",
       "count  13760.000000    13760.000000   1.354500e+04\n",
       "mean    1991.500000     7654.829033   7.256966e+03\n",
       "std       18.473624    17076.866349   8.444125e+05\n",
       "min     1960.000000        0.000000  -6.442358e+01\n",
       "25%     1975.750000      225.615482   0.000000e+00\n",
       "50%     1991.500000     1210.690043   9.432133e-01\n",
       "75%     2007.250000     6331.442354   3.816873e+00\n",
       "max     2023.000000   256580.515123   9.827525e+07"
      ]
     },
     "execution_count": 22,
     "metadata": {},
     "output_type": "execute_result"
    }
   ],
   "source": [
    "df_data.describe()"
   ]
  },
  {
   "cell_type": "code",
   "execution_count": 23,
   "metadata": {},
   "outputs": [
    {
     "data": {
      "text/plain": [
       "country_code              0\n",
       "country_name              0\n",
       "region                 5440\n",
       "sub_region                0\n",
       "intermediate_region    8000\n",
       "indicator_code            0\n",
       "indicator_name            0\n",
       "year                      0\n",
       "gdp_per_capita            0\n",
       "gdp_variation           215\n",
       "dtype: int64"
      ]
     },
     "execution_count": 23,
     "metadata": {},
     "output_type": "execute_result"
    }
   ],
   "source": [
    "df_data.isna().sum()"
   ]
  },
  {
   "cell_type": "code",
   "execution_count": 24,
   "metadata": {},
   "outputs": [],
   "source": [
    "df_data['gdp_variation'] = data['gdp_variation'].fillna(0)"
   ]
  },
  {
   "cell_type": "markdown",
   "metadata": {},
   "source": [
    "### EDA"
   ]
  },
  {
   "cell_type": "code",
   "execution_count": 27,
   "metadata": {},
   "outputs": [
    {
     "data": {
      "text/html": [
       "<iframe\n",
       "    scrolling=\"no\"\n",
       "    width=\"100%\"\n",
       "    height=\"820\"\n",
       "    src=\"iframe_figures/figure_27.html\"\n",
       "    frameborder=\"0\"\n",
       "    allowfullscreen\n",
       "></iframe>\n"
      ]
     },
     "metadata": {},
     "output_type": "display_data"
    }
   ],
   "source": [
    "fig = px.histogram(df_data, \n",
    "                   x=\"gdp_per_capita\", \n",
    "                   nbins=100,\n",
    "                   height=height)\n",
    "\n",
    "fig.update_layout(title='Distribution of GDP per Capita')\n",
    "\n",
    "if kaggle:\n",
    "    fig.show(renderer='iframe_connected')\n",
    "else:\n",
    "    fig.show() "
   ]
  },
  {
   "cell_type": "code",
   "execution_count": null,
   "metadata": {},
   "outputs": [
    {
     "data": {
      "text/html": [
       "<iframe\n",
       "    scrolling=\"no\"\n",
       "    width=\"100%\"\n",
       "    height=\"820\"\n",
       "    src=\"iframe_figures/figure_28.html\"\n",
       "    frameborder=\"0\"\n",
       "    allowfullscreen\n",
       "></iframe>\n"
      ]
     },
     "metadata": {},
     "output_type": "display_data"
    }
   ],
   "source": [
    "fig = px.box(df_data,\n",
    "             x='gdp_per_capita',\n",
    "             height=height)\n",
    "\n",
    "if kaggle:\n",
    "  fig.show(renderer='iframe_connected')\n",
    "else:\n",
    "  fig.show()  "
   ]
  },
  {
   "cell_type": "code",
   "execution_count": 29,
   "metadata": {},
   "outputs": [],
   "source": [
    "# Delete countries with 0 gdp\n",
    "\n",
    "df_data = df_data[df_data['gdp_per_capita'] != 0]"
   ]
  },
  {
   "cell_type": "code",
   "execution_count": 31,
   "metadata": {},
   "outputs": [
    {
     "name": "stdout",
     "output_type": "stream",
     "text": [
      "The mean of GDP per Capita of all countries is -> 9304.80984899803\n"
     ]
    }
   ],
   "source": [
    "mean = df_data['gdp_per_capita'].mean()\n",
    "print('The mean of GDP per Capita of all countries is ->', mean)"
   ]
  },
  {
   "cell_type": "markdown",
   "metadata": {},
   "source": [
    "### Richest Countries"
   ]
  },
  {
   "cell_type": "code",
   "execution_count": 32,
   "metadata": {},
   "outputs": [
    {
     "name": "stdout",
     "output_type": "stream",
     "text": [
      "The mean of gdp per capita of all countries is => 20333.64629237342\n"
     ]
    }
   ],
   "source": [
    "# Get only data of year 2023\n",
    "\n",
    "df_data_2023 = df_data[df_data['year'] == 2023]\n",
    "\n",
    "mean_2023 = df_data_2023['gdp_per_capita'].mean()\n",
    "print('The mean of gdp per capita of all countries is =>', mean_2023)"
   ]
  },
  {
   "cell_type": "code",
   "execution_count": 33,
   "metadata": {},
   "outputs": [
    {
     "data": {
      "text/html": [
       "<iframe\n",
       "    scrolling=\"no\"\n",
       "    width=\"100%\"\n",
       "    height=\"820\"\n",
       "    src=\"iframe_figures/figure_33.html\"\n",
       "    frameborder=\"0\"\n",
       "    allowfullscreen\n",
       "></iframe>\n"
      ]
     },
     "metadata": {},
     "output_type": "display_data"
    }
   ],
   "source": [
    "fig = px.bar(\n",
    "    df_data_2023[df_data_2023['gdp_per_capita']> mean_2023].sort_values('gdp_per_capita',ascending=False).head(30),\n",
    "    x='country_name',\n",
    "    y='gdp_per_capita',\n",
    "    height=height\n",
    ")\n",
    "\n",
    "fig.update_layout(title='Countries with GDP above average')\n",
    "\n",
    "if kaggle:\n",
    "    fig.show(renderer='iframe_connected')\n",
    "else:\n",
    "    fig.show()"
   ]
  },
  {
   "cell_type": "markdown",
   "metadata": {},
   "source": [
    "### Poorest Countries"
   ]
  },
  {
   "cell_type": "code",
   "execution_count": 34,
   "metadata": {},
   "outputs": [
    {
     "data": {
      "text/html": [
       "<iframe\n",
       "    scrolling=\"no\"\n",
       "    width=\"100%\"\n",
       "    height=\"820\"\n",
       "    src=\"iframe_figures/figure_34.html\"\n",
       "    frameborder=\"0\"\n",
       "    allowfullscreen\n",
       "></iframe>\n"
      ]
     },
     "metadata": {},
     "output_type": "display_data"
    }
   ],
   "source": [
    "fig = px.bar(\n",
    "    df_data_2023[df_data_2023['gdp_per_capita'] < mean].sort_values('gdp_per_capita',ascending=False).head(30),\n",
    "    x='country_name',\n",
    "    y='gdp_per_capita',\n",
    "    height=height\n",
    ")\n",
    "\n",
    "fig.update_layout(title='Countries with GDP below average')\n",
    "\n",
    "if kaggle:\n",
    "    fig.show(renderer='iframe_connected')\n",
    "else:\n",
    "    fig.show()"
   ]
  },
  {
   "cell_type": "markdown",
   "metadata": {},
   "source": [
    "### Clustering of Countries using KMeans"
   ]
  },
  {
   "cell_type": "code",
   "execution_count": 35,
   "metadata": {},
   "outputs": [],
   "source": [
    "df_data_2023 = df_data_2023[['country_name', 'country_code', 'gdp_per_capita']]"
   ]
  },
  {
   "cell_type": "code",
   "execution_count": 36,
   "metadata": {},
   "outputs": [
    {
     "data": {
      "text/plain": [
       "country_name      0\n",
       "country_code      0\n",
       "gdp_per_capita    0\n",
       "dtype: int64"
      ]
     },
     "execution_count": 36,
     "metadata": {},
     "output_type": "execute_result"
    }
   ],
   "source": [
    "df_data_2023.isna().sum()"
   ]
  },
  {
   "cell_type": "code",
   "execution_count": 38,
   "metadata": {},
   "outputs": [],
   "source": [
    "import plotly.express as px\n",
    "import plotly.graph_objects as go\n",
    "from sklearn.cluster import KMeans"
   ]
  },
  {
   "cell_type": "code",
   "execution_count": 40,
   "metadata": {},
   "outputs": [
    {
     "data": {
      "text/html": [
       "<iframe\n",
       "    scrolling=\"no\"\n",
       "    width=\"100%\"\n",
       "    height=\"820\"\n",
       "    src=\"iframe_figures/figure_40.html\"\n",
       "    frameborder=\"0\"\n",
       "    allowfullscreen\n",
       "></iframe>\n"
      ]
     },
     "metadata": {},
     "output_type": "display_data"
    }
   ],
   "source": [
    "# Probar difference valores de k\n",
    "inertia = []\n",
    "k_values = list(range(1, 11))\n",
    "\n",
    "for k in k_values:\n",
    "  kmeans = KMeans(n_clusters=k, random_state=42, n_init=10)\n",
    "  kmeans.fit(df_data_2023[[\"gdp_per_capita\"]])\n",
    "  inertia.append(kmeans.inertia_)\n",
    "  \n",
    "# \n",
    "fig = go.Figure()\n",
    "\n",
    "fig.add_trace(go.Scatter(\n",
    "  x=k_values,\n",
    "  y=inertia,\n",
    "  mode='lines+markers',\n",
    "  marker=dict(size=8, color='blue'),\n",
    "  line=dict(dash='dash'),\n",
    "  name='Inercia'\n",
    "))\n",
    "\n",
    "fig.update_layout(\n",
    "  title=\"Mexico del codo para alegir k\",\n",
    "  xaxis_title = \"Numero de Clusters (k)\",\n",
    "  yaxis_title= \"Inercia\",\n",
    "  template=\"plotly_white\",\n",
    "  height=height\n",
    ")\n",
    "\n",
    "if kaggle:\n",
    "  fig.show(renderer='iframe_connected')\n",
    "else:\n",
    "  fig.show()  \n",
    "  \n",
    "  \n",
    "\n",
    "\n",
    "  "
   ]
  },
  {
   "cell_type": "code",
   "execution_count": 41,
   "metadata": {},
   "outputs": [
    {
     "data": {
      "text/plain": [
       "Cluster\n",
       "0    164\n",
       "1     29\n",
       "Name: count, dtype: int64"
      ]
     },
     "execution_count": 41,
     "metadata": {},
     "output_type": "execute_result"
    }
   ],
   "source": [
    "# creation to kmeans model using k2\n",
    "\n",
    "# Aplicar K-Means con k=4\n",
    "\n",
    "kmeans = KMeans(n_clusters=2, random_state=42, n_init=10)\n",
    "df_data_2023[\"Cluster\"] = kmeans.fit_predict(df_data_2023[['gdp_per_capita']])\n",
    "\n",
    "# Revisar ;a cantidad de paises en cada cluster\n",
    "df_data_2023[\"Cluster\"].value_counts()"
   ]
  },
  {
   "cell_type": "code",
   "execution_count": 42,
   "metadata": {},
   "outputs": [
    {
     "data": {
      "text/html": [
       "<iframe\n",
       "    scrolling=\"no\"\n",
       "    width=\"100%\"\n",
       "    height=\"545px\"\n",
       "    src=\"iframe_figures/figure_42.html\"\n",
       "    frameborder=\"0\"\n",
       "    allowfullscreen\n",
       "></iframe>\n"
      ]
     },
     "metadata": {},
     "output_type": "display_data"
    }
   ],
   "source": [
    "# Crear un scatter plot con los clusters\n",
    "fig = px.scatter(\n",
    "    df_data_2023, \n",
    "    x=\"gdp_per_capita\", \n",
    "    y=\"Cluster\", \n",
    "    color=df_data_2023[\"Cluster\"].astype(str), \n",
    "    hover_name=\"country_name\",\n",
    "    title=\"Clusters de países según PIB per cápita (2023)\",\n",
    "    labels={\"Cluster\": \"Grupo\"},\n",
    "    template=\"plotly_white\"\n",
    ")\n",
    "\n",
    "if kaggle:\n",
    "    fig.show(renderer='iframe_connected')\n",
    "else:\n",
    "    fig.show()"
   ]
  },
  {
   "cell_type": "code",
   "execution_count": 43,
   "metadata": {},
   "outputs": [
    {
     "data": {
      "text/html": [
       "<div>\n",
       "<style scoped>\n",
       "    .dataframe tbody tr th:only-of-type {\n",
       "        vertical-align: middle;\n",
       "    }\n",
       "\n",
       "    .dataframe tbody tr th {\n",
       "        vertical-align: top;\n",
       "    }\n",
       "\n",
       "    .dataframe thead th {\n",
       "        text-align: right;\n",
       "    }\n",
       "</style>\n",
       "<table border=\"1\" class=\"dataframe\">\n",
       "  <thead>\n",
       "    <tr style=\"text-align: right;\">\n",
       "      <th></th>\n",
       "      <th>gdp_per_capita</th>\n",
       "      <th>Cluster</th>\n",
       "    </tr>\n",
       "  </thead>\n",
       "  <tbody>\n",
       "    <tr>\n",
       "      <th>count</th>\n",
       "      <td>164.000000</td>\n",
       "      <td>164.0</td>\n",
       "    </tr>\n",
       "    <tr>\n",
       "      <th>mean</th>\n",
       "      <td>10313.258884</td>\n",
       "      <td>0.0</td>\n",
       "    </tr>\n",
       "    <tr>\n",
       "      <th>std</th>\n",
       "      <td>10766.140104</td>\n",
       "      <td>0.0</td>\n",
       "    </tr>\n",
       "    <tr>\n",
       "      <th>min</th>\n",
       "      <td>193.007146</td>\n",
       "      <td>0.0</td>\n",
       "    </tr>\n",
       "    <tr>\n",
       "      <th>25%</th>\n",
       "      <td>2117.307404</td>\n",
       "      <td>0.0</td>\n",
       "    </tr>\n",
       "    <tr>\n",
       "      <th>50%</th>\n",
       "      <td>5955.639614</td>\n",
       "      <td>0.0</td>\n",
       "    </tr>\n",
       "    <tr>\n",
       "      <th>75%</th>\n",
       "      <td>14611.996827</td>\n",
       "      <td>0.0</td>\n",
       "    </tr>\n",
       "    <tr>\n",
       "      <th>max</th>\n",
       "      <td>40395.769206</td>\n",
       "      <td>0.0</td>\n",
       "    </tr>\n",
       "  </tbody>\n",
       "</table>\n",
       "</div>"
      ],
      "text/plain": [
       "       gdp_per_capita  Cluster\n",
       "count      164.000000    164.0\n",
       "mean     10313.258884      0.0\n",
       "std      10766.140104      0.0\n",
       "min        193.007146      0.0\n",
       "25%       2117.307404      0.0\n",
       "50%       5955.639614      0.0\n",
       "75%      14611.996827      0.0\n",
       "max      40395.769206      0.0"
      ]
     },
     "execution_count": 43,
     "metadata": {},
     "output_type": "execute_result"
    }
   ],
   "source": [
    "df_data_2023[df_data_2023['Cluster'] == 0].describe()"
   ]
  },
  {
   "cell_type": "code",
   "execution_count": 44,
   "metadata": {},
   "outputs": [
    {
     "data": {
      "text/html": [
       "<div>\n",
       "<style scoped>\n",
       "    .dataframe tbody tr th:only-of-type {\n",
       "        vertical-align: middle;\n",
       "    }\n",
       "\n",
       "    .dataframe tbody tr th {\n",
       "        vertical-align: top;\n",
       "    }\n",
       "\n",
       "    .dataframe thead th {\n",
       "        text-align: right;\n",
       "    }\n",
       "</style>\n",
       "<table border=\"1\" class=\"dataframe\">\n",
       "  <thead>\n",
       "    <tr style=\"text-align: right;\">\n",
       "      <th></th>\n",
       "      <th>gdp_per_capita</th>\n",
       "      <th>Cluster</th>\n",
       "    </tr>\n",
       "  </thead>\n",
       "  <tbody>\n",
       "    <tr>\n",
       "      <th>count</th>\n",
       "      <td>29.000000</td>\n",
       "      <td>29.0</td>\n",
       "    </tr>\n",
       "    <tr>\n",
       "      <th>mean</th>\n",
       "      <td>77000.664738</td>\n",
       "      <td>1.0</td>\n",
       "    </tr>\n",
       "    <tr>\n",
       "      <th>std</th>\n",
       "      <td>41555.705619</td>\n",
       "      <td>0.0</td>\n",
       "    </tr>\n",
       "    <tr>\n",
       "      <th>min</th>\n",
       "      <td>44690.934540</td>\n",
       "      <td>1.0</td>\n",
       "    </tr>\n",
       "    <tr>\n",
       "      <th>25%</th>\n",
       "      <td>52925.689764</td>\n",
       "      <td>1.0</td>\n",
       "    </tr>\n",
       "    <tr>\n",
       "      <th>50%</th>\n",
       "      <td>64820.911789</td>\n",
       "      <td>1.0</td>\n",
       "    </tr>\n",
       "    <tr>\n",
       "      <th>75%</th>\n",
       "      <td>84734.255921</td>\n",
       "      <td>1.0</td>\n",
       "    </tr>\n",
       "    <tr>\n",
       "      <th>max</th>\n",
       "      <td>256580.515123</td>\n",
       "      <td>1.0</td>\n",
       "    </tr>\n",
       "  </tbody>\n",
       "</table>\n",
       "</div>"
      ],
      "text/plain": [
       "       gdp_per_capita  Cluster\n",
       "count       29.000000     29.0\n",
       "mean     77000.664738      1.0\n",
       "std      41555.705619      0.0\n",
       "min      44690.934540      1.0\n",
       "25%      52925.689764      1.0\n",
       "50%      64820.911789      1.0\n",
       "75%      84734.255921      1.0\n",
       "max     256580.515123      1.0"
      ]
     },
     "execution_count": 44,
     "metadata": {},
     "output_type": "execute_result"
    }
   ],
   "source": [
    "df_data_2023[df_data_2023['Cluster'] == 1].describe()"
   ]
  },
  {
   "cell_type": "code",
   "execution_count": 46,
   "metadata": {},
   "outputs": [
    {
     "data": {
      "text/html": [
       "<iframe\n",
       "    scrolling=\"no\"\n",
       "    width=\"1020px\"\n",
       "    height=\"820\"\n",
       "    src=\"iframe_figures/figure_46.html\"\n",
       "    frameborder=\"0\"\n",
       "    allowfullscreen\n",
       "></iframe>\n"
      ]
     },
     "metadata": {},
     "output_type": "display_data"
    }
   ],
   "source": [
    "fig = px.choropleth(df_data_2023,\n",
    "                    locations = 'country_code',\n",
    "                    color = 'Cluster',\n",
    "                    hover_name = 'country_name')\n",
    "\n",
    "fig.update_layout(height = 800,\n",
    "                  width =1000,\n",
    "                  margin={\"r\":0,\"t\":0,\"l\":0,\"b\":0},\n",
    "                  title_text = 'Inflation rate of the world in 2023')\n",
    "\n",
    "if kaggle:\n",
    "    fig.show(renderer='iframe_connected')\n",
    "else:\n",
    "    fig.show()"
   ]
  },
  {
   "cell_type": "markdown",
   "metadata": {},
   "source": [
    "### Conclusion of Clustering"
   ]
  },
  {
   "cell_type": "markdown",
   "metadata": {},
   "source": [
    "We can see that according to the elbow model, the most efficient number of clusters is 2, this does not clearly separate the countries into two groups:\n",
    "\n",
    "Group 0: contains the richest countries in the world with an average GDP of 77,000 dollars in 2023, even having countries with a GDP per capita of over 200,000 dollars.\n",
    "\n",
    "Group 1: This will contain the rest of the countries in the world, in this case their average GDP per capita is 10,000 dollars, their maximum GDP is 40,000 dollars, well below the average of the group of richest countries in the world.\n",
    "\n",
    "As we can see on the map, the richest countries in the world according to GDP per capita are those in yellow, in blue the rest of the countries whose GDP is lower than the average of the richest in the world"
   ]
  },
  {
   "cell_type": "code",
   "execution_count": null,
   "metadata": {},
   "outputs": [],
   "source": [
    "### GDP Per Capita of Colombia\n",
    "\n",
    "Next we come to explore and analysis of GDP Per capita of Colombia, identifying presidential periods and trend, also we going to do make a prediction of GDP per capita to next years"
   ]
  },
  {
   "cell_type": "code",
   "execution_count": 47,
   "metadata": {},
   "outputs": [],
   "source": [
    "height = 800\n",
    "country = 'COLOMBIA'\n",
    "\n",
    "#List of presidents of Colombia\n",
    "presidentes_lista = [\n",
    "    {\"año\": 1960, \"presidente\": \"Alberto Lleras Camargo\"},\n",
    "    {\"año\": 1961, \"presidente\": \"Alberto Lleras Camargo\"},\n",
    "    {\"año\": 1962, \"presidente\": \"Alberto Lleras Camargo\"},\n",
    "    {\"año\": 1963, \"presidente\": \"Guillermo León Valencia\"},\n",
    "    {\"año\": 1964, \"presidente\": \"Guillermo León Valencia\"},\n",
    "    {\"año\": 1965, \"presidente\": \"Guillermo León Valencia\"},\n",
    "    {\"año\": 1966, \"presidente\": \"Guillermo León Valencia\"},\n",
    "    {\"año\": 1967, \"presidente\": \"Carlos Lleras Restrepo\"},\n",
    "    {\"año\": 1968, \"presidente\": \"Carlos Lleras Restrepo\"},\n",
    "    {\"año\": 1969, \"presidente\": \"Carlos Lleras Restrepo\"},\n",
    "    {\"año\": 1970, \"presidente\": \"Carlos Lleras Restrepo\"},\n",
    "    {\"año\": 1971, \"presidente\": \"Misael Pastrana Borrero\"},\n",
    "    {\"año\": 1972, \"presidente\": \"Misael Pastrana Borrero\"},\n",
    "    {\"año\": 1973, \"presidente\": \"Misael Pastrana Borrero\"},\n",
    "    {\"año\": 1974, \"presidente\": \"Misael Pastrana Borrero\"},\n",
    "    {\"año\": 1975, \"presidente\": \"Alfonso López Michelsen\"},\n",
    "    {\"año\": 1976, \"presidente\": \"Alfonso López Michelsen\"},\n",
    "    {\"año\": 1977, \"presidente\": \"Alfonso López Michelsen\"},\n",
    "    {\"año\": 1978, \"presidente\": \"Alfonso López Michelsen\"},\n",
    "    {\"año\": 1979, \"presidente\": \"Julio César Turbay Ayala\"},\n",
    "    {\"año\": 1980, \"presidente\": \"Julio César Turbay Ayala\"},\n",
    "    {\"año\": 1981, \"presidente\": \"Julio César Turbay Ayala\"},\n",
    "    {\"año\": 1982, \"presidente\": \"Julio César Turbay Ayala\"},\n",
    "    {\"año\": 1983, \"presidente\": \"Belisario Betancur\"},\n",
    "    {\"año\": 1984, \"presidente\": \"Belisario Betancur\"},\n",
    "    {\"año\": 1985, \"presidente\": \"Belisario Betancur\"},\n",
    "    {\"año\": 1986, \"presidente\": \"Belisario Betancur\"},\n",
    "    {\"año\": 1987, \"presidente\": \"Virgilio Barco\"},\n",
    "    {\"año\": 1988, \"presidente\": \"Virgilio Barco\"},\n",
    "    {\"año\": 1989, \"presidente\": \"Virgilio Barco\"},\n",
    "    {\"año\": 1990, \"presidente\": \"Virgilio Barco\"},\n",
    "    {\"año\": 1991, \"presidente\": \"César Gaviria\"},\n",
    "    {\"año\": 1992, \"presidente\": \"César Gaviria\"},\n",
    "    {\"año\": 1993, \"presidente\": \"César Gaviria\"},\n",
    "    {\"año\": 1994, \"presidente\": \"César Gaviria\"},\n",
    "    {\"año\": 1995, \"presidente\": \"Ernesto Samper\"},\n",
    "    {\"año\": 1996, \"presidente\": \"Ernesto Samper\"},\n",
    "    {\"año\": 1997, \"presidente\": \"Ernesto Samper\"},\n",
    "    {\"año\": 1998, \"presidente\": \"Ernesto Samper\"},\n",
    "    {\"año\": 1999, \"presidente\": \"Andrés Pastrana\"},\n",
    "    {\"año\": 2000, \"presidente\": \"Andrés Pastrana\"},\n",
    "    {\"año\": 2001, \"presidente\": \"Andrés Pastrana\"},\n",
    "    {\"año\": 2002, \"presidente\": \"Andrés Pastrana\"},\n",
    "    {\"año\": 2003, \"presidente\": \"Álvaro Uribe Vélez\"},\n",
    "    {\"año\": 2004, \"presidente\": \"Álvaro Uribe Vélez\"},\n",
    "    {\"año\": 2005, \"presidente\": \"Álvaro Uribe Vélez\"},\n",
    "    {\"año\": 2006, \"presidente\": \"Álvaro Uribe Vélez\"},\n",
    "    {\"año\": 2007, \"presidente\": \"Álvaro Uribe Vélez\"},\n",
    "    {\"año\": 2008, \"presidente\": \"Álvaro Uribe Vélez\"},\n",
    "    {\"año\": 2009, \"presidente\": \"Álvaro Uribe Vélez\"},\n",
    "    {\"año\": 2010, \"presidente\": \"Álvaro Uribe Vélez\"},\n",
    "    {\"año\": 2011, \"presidente\": \"Juan Manuel Santos\"},\n",
    "    {\"año\": 2012, \"presidente\": \"Juan Manuel Santos\"},\n",
    "    {\"año\": 2013, \"presidente\": \"Juan Manuel Santos\"},\n",
    "    {\"año\": 2014, \"presidente\": \"Juan Manuel Santos\"},\n",
    "    {\"año\": 2015, \"presidente\": \"Juan Manuel Santos\"},\n",
    "    {\"año\": 2016, \"presidente\": \"Juan Manuel Santos\"},\n",
    "    {\"año\": 2017, \"presidente\": \"Juan Manuel Santos\"},\n",
    "    {\"año\": 2018, \"presidente\": \"Juan Manuel Santos\"},\n",
    "    {\"año\": 2019, \"presidente\": \"Iván Duque\"},\n",
    "    {\"año\": 2020, \"presidente\": \"Iván Duque\"},\n",
    "    {\"año\": 2021, \"presidente\": \"Iván Duque\"},\n",
    "    {\"año\": 2022, \"presidente\": \"Iván Duque\"},\n",
    "    {\"año\": 2023, \"presidente\": \"Gustavo Petro\"},\n",
    "]\n",
    "\n",
    "# Convertir a DataFrame\n",
    "df_presidentes = pd.DataFrame(presidentes_lista)\n",
    "df_presidentes['presidente'] = df_presidentes['presidente'].str.upper()"
   ]
  },
  {
   "cell_type": "code",
   "execution_count": 48,
   "metadata": {},
   "outputs": [
    {
     "data": {
      "text/html": [
       "<div>\n",
       "<style scoped>\n",
       "    .dataframe tbody tr th:only-of-type {\n",
       "        vertical-align: middle;\n",
       "    }\n",
       "\n",
       "    .dataframe tbody tr th {\n",
       "        vertical-align: top;\n",
       "    }\n",
       "\n",
       "    .dataframe thead th {\n",
       "        text-align: right;\n",
       "    }\n",
       "</style>\n",
       "<table border=\"1\" class=\"dataframe\">\n",
       "  <thead>\n",
       "    <tr style=\"text-align: right;\">\n",
       "      <th></th>\n",
       "      <th>country_code</th>\n",
       "      <th>country_name</th>\n",
       "      <th>region</th>\n",
       "      <th>sub_region</th>\n",
       "      <th>intermediate_region</th>\n",
       "      <th>indicator_code</th>\n",
       "      <th>indicator_name</th>\n",
       "      <th>year</th>\n",
       "      <th>gdp_per_capita</th>\n",
       "      <th>gdp_variation</th>\n",
       "    </tr>\n",
       "  </thead>\n",
       "  <tbody>\n",
       "    <tr>\n",
       "      <th>2560</th>\n",
       "      <td>COL</td>\n",
       "      <td>COLOMBIA</td>\n",
       "      <td>AMÉRICA LATINA Y EL CARIBE (EXCLUIDO ALTOS ING...</td>\n",
       "      <td>LATIN AMERICA AND THE CARIBBEAN</td>\n",
       "      <td>SOUTH AMERICA</td>\n",
       "      <td>NY.GDP.PCAP.CD</td>\n",
       "      <td>PIB PER CAPITA (US$ A PRECIOS ACTUALES)</td>\n",
       "      <td>1960</td>\n",
       "      <td>258.304434</td>\n",
       "      <td>0.000000</td>\n",
       "    </tr>\n",
       "    <tr>\n",
       "      <th>2561</th>\n",
       "      <td>COL</td>\n",
       "      <td>COLOMBIA</td>\n",
       "      <td>AMÉRICA LATINA Y EL CARIBE (EXCLUIDO ALTOS ING...</td>\n",
       "      <td>LATIN AMERICA AND THE CARIBBEAN</td>\n",
       "      <td>SOUTH AMERICA</td>\n",
       "      <td>NY.GDP.PCAP.CD</td>\n",
       "      <td>PIB PER CAPITA (US$ A PRECIOS ACTUALES)</td>\n",
       "      <td>1961</td>\n",
       "      <td>282.099441</td>\n",
       "      <td>1.896465</td>\n",
       "    </tr>\n",
       "    <tr>\n",
       "      <th>2562</th>\n",
       "      <td>COL</td>\n",
       "      <td>COLOMBIA</td>\n",
       "      <td>AMÉRICA LATINA Y EL CARIBE (EXCLUIDO ALTOS ING...</td>\n",
       "      <td>LATIN AMERICA AND THE CARIBBEAN</td>\n",
       "      <td>SOUTH AMERICA</td>\n",
       "      <td>NY.GDP.PCAP.CD</td>\n",
       "      <td>PIB PER CAPITA (US$ A PRECIOS ACTUALES)</td>\n",
       "      <td>1962</td>\n",
       "      <td>298.543862</td>\n",
       "      <td>2.212350</td>\n",
       "    </tr>\n",
       "    <tr>\n",
       "      <th>2563</th>\n",
       "      <td>COL</td>\n",
       "      <td>COLOMBIA</td>\n",
       "      <td>AMÉRICA LATINA Y EL CARIBE (EXCLUIDO ALTOS ING...</td>\n",
       "      <td>LATIN AMERICA AND THE CARIBBEAN</td>\n",
       "      <td>SOUTH AMERICA</td>\n",
       "      <td>NY.GDP.PCAP.CD</td>\n",
       "      <td>PIB PER CAPITA (US$ A PRECIOS ACTUALES)</td>\n",
       "      <td>1963</td>\n",
       "      <td>282.588330</td>\n",
       "      <td>0.179782</td>\n",
       "    </tr>\n",
       "    <tr>\n",
       "      <th>2564</th>\n",
       "      <td>COL</td>\n",
       "      <td>COLOMBIA</td>\n",
       "      <td>AMÉRICA LATINA Y EL CARIBE (EXCLUIDO ALTOS ING...</td>\n",
       "      <td>LATIN AMERICA AND THE CARIBBEAN</td>\n",
       "      <td>SOUTH AMERICA</td>\n",
       "      <td>NY.GDP.PCAP.CD</td>\n",
       "      <td>PIB PER CAPITA (US$ A PRECIOS ACTUALES)</td>\n",
       "      <td>1964</td>\n",
       "      <td>338.675935</td>\n",
       "      <td>3.015247</td>\n",
       "    </tr>\n",
       "    <tr>\n",
       "      <th>...</th>\n",
       "      <td>...</td>\n",
       "      <td>...</td>\n",
       "      <td>...</td>\n",
       "      <td>...</td>\n",
       "      <td>...</td>\n",
       "      <td>...</td>\n",
       "      <td>...</td>\n",
       "      <td>...</td>\n",
       "      <td>...</td>\n",
       "      <td>...</td>\n",
       "    </tr>\n",
       "    <tr>\n",
       "      <th>2619</th>\n",
       "      <td>COL</td>\n",
       "      <td>COLOMBIA</td>\n",
       "      <td>AMÉRICA LATINA Y EL CARIBE (EXCLUIDO ALTOS ING...</td>\n",
       "      <td>LATIN AMERICA AND THE CARIBBEAN</td>\n",
       "      <td>SOUTH AMERICA</td>\n",
       "      <td>NY.GDP.PCAP.CD</td>\n",
       "      <td>PIB PER CAPITA (US$ A PRECIOS ACTUALES)</td>\n",
       "      <td>2019</td>\n",
       "      <td>6472.545449</td>\n",
       "      <td>1.360141</td>\n",
       "    </tr>\n",
       "    <tr>\n",
       "      <th>2620</th>\n",
       "      <td>COL</td>\n",
       "      <td>COLOMBIA</td>\n",
       "      <td>AMÉRICA LATINA Y EL CARIBE (EXCLUIDO ALTOS ING...</td>\n",
       "      <td>LATIN AMERICA AND THE CARIBBEAN</td>\n",
       "      <td>SOUTH AMERICA</td>\n",
       "      <td>NY.GDP.PCAP.CD</td>\n",
       "      <td>PIB PER CAPITA (US$ A PRECIOS ACTUALES)</td>\n",
       "      <td>2020</td>\n",
       "      <td>5339.687114</td>\n",
       "      <td>-8.509495</td>\n",
       "    </tr>\n",
       "    <tr>\n",
       "      <th>2621</th>\n",
       "      <td>COL</td>\n",
       "      <td>COLOMBIA</td>\n",
       "      <td>AMÉRICA LATINA Y EL CARIBE (EXCLUIDO ALTOS ING...</td>\n",
       "      <td>LATIN AMERICA AND THE CARIBBEAN</td>\n",
       "      <td>SOUTH AMERICA</td>\n",
       "      <td>NY.GDP.PCAP.CD</td>\n",
       "      <td>PIB PER CAPITA (US$ A PRECIOS ACTUALES)</td>\n",
       "      <td>2021</td>\n",
       "      <td>6222.621644</td>\n",
       "      <td>9.592978</td>\n",
       "    </tr>\n",
       "    <tr>\n",
       "      <th>2622</th>\n",
       "      <td>COL</td>\n",
       "      <td>COLOMBIA</td>\n",
       "      <td>AMÉRICA LATINA Y EL CARIBE (EXCLUIDO ALTOS ING...</td>\n",
       "      <td>LATIN AMERICA AND THE CARIBBEAN</td>\n",
       "      <td>SOUTH AMERICA</td>\n",
       "      <td>NY.GDP.PCAP.CD</td>\n",
       "      <td>PIB PER CAPITA (US$ A PRECIOS ACTUALES)</td>\n",
       "      <td>2022</td>\n",
       "      <td>6674.596019</td>\n",
       "      <td>6.148825</td>\n",
       "    </tr>\n",
       "    <tr>\n",
       "      <th>2623</th>\n",
       "      <td>COL</td>\n",
       "      <td>COLOMBIA</td>\n",
       "      <td>AMÉRICA LATINA Y EL CARIBE (EXCLUIDO ALTOS ING...</td>\n",
       "      <td>LATIN AMERICA AND THE CARIBBEAN</td>\n",
       "      <td>SOUTH AMERICA</td>\n",
       "      <td>NY.GDP.PCAP.CD</td>\n",
       "      <td>PIB PER CAPITA (US$ A PRECIOS ACTUALES)</td>\n",
       "      <td>2023</td>\n",
       "      <td>6947.359287</td>\n",
       "      <td>0.000000</td>\n",
       "    </tr>\n",
       "  </tbody>\n",
       "</table>\n",
       "<p>64 rows × 10 columns</p>\n",
       "</div>"
      ],
      "text/plain": [
       "     country_code country_name  \\\n",
       "2560          COL     COLOMBIA   \n",
       "2561          COL     COLOMBIA   \n",
       "2562          COL     COLOMBIA   \n",
       "2563          COL     COLOMBIA   \n",
       "2564          COL     COLOMBIA   \n",
       "...           ...          ...   \n",
       "2619          COL     COLOMBIA   \n",
       "2620          COL     COLOMBIA   \n",
       "2621          COL     COLOMBIA   \n",
       "2622          COL     COLOMBIA   \n",
       "2623          COL     COLOMBIA   \n",
       "\n",
       "                                                 region  \\\n",
       "2560  AMÉRICA LATINA Y EL CARIBE (EXCLUIDO ALTOS ING...   \n",
       "2561  AMÉRICA LATINA Y EL CARIBE (EXCLUIDO ALTOS ING...   \n",
       "2562  AMÉRICA LATINA Y EL CARIBE (EXCLUIDO ALTOS ING...   \n",
       "2563  AMÉRICA LATINA Y EL CARIBE (EXCLUIDO ALTOS ING...   \n",
       "2564  AMÉRICA LATINA Y EL CARIBE (EXCLUIDO ALTOS ING...   \n",
       "...                                                 ...   \n",
       "2619  AMÉRICA LATINA Y EL CARIBE (EXCLUIDO ALTOS ING...   \n",
       "2620  AMÉRICA LATINA Y EL CARIBE (EXCLUIDO ALTOS ING...   \n",
       "2621  AMÉRICA LATINA Y EL CARIBE (EXCLUIDO ALTOS ING...   \n",
       "2622  AMÉRICA LATINA Y EL CARIBE (EXCLUIDO ALTOS ING...   \n",
       "2623  AMÉRICA LATINA Y EL CARIBE (EXCLUIDO ALTOS ING...   \n",
       "\n",
       "                           sub_region intermediate_region  indicator_code  \\\n",
       "2560  LATIN AMERICA AND THE CARIBBEAN       SOUTH AMERICA  NY.GDP.PCAP.CD   \n",
       "2561  LATIN AMERICA AND THE CARIBBEAN       SOUTH AMERICA  NY.GDP.PCAP.CD   \n",
       "2562  LATIN AMERICA AND THE CARIBBEAN       SOUTH AMERICA  NY.GDP.PCAP.CD   \n",
       "2563  LATIN AMERICA AND THE CARIBBEAN       SOUTH AMERICA  NY.GDP.PCAP.CD   \n",
       "2564  LATIN AMERICA AND THE CARIBBEAN       SOUTH AMERICA  NY.GDP.PCAP.CD   \n",
       "...                               ...                 ...             ...   \n",
       "2619  LATIN AMERICA AND THE CARIBBEAN       SOUTH AMERICA  NY.GDP.PCAP.CD   \n",
       "2620  LATIN AMERICA AND THE CARIBBEAN       SOUTH AMERICA  NY.GDP.PCAP.CD   \n",
       "2621  LATIN AMERICA AND THE CARIBBEAN       SOUTH AMERICA  NY.GDP.PCAP.CD   \n",
       "2622  LATIN AMERICA AND THE CARIBBEAN       SOUTH AMERICA  NY.GDP.PCAP.CD   \n",
       "2623  LATIN AMERICA AND THE CARIBBEAN       SOUTH AMERICA  NY.GDP.PCAP.CD   \n",
       "\n",
       "                               indicator_name  year  gdp_per_capita  \\\n",
       "2560  PIB PER CAPITA (US$ A PRECIOS ACTUALES)  1960      258.304434   \n",
       "2561  PIB PER CAPITA (US$ A PRECIOS ACTUALES)  1961      282.099441   \n",
       "2562  PIB PER CAPITA (US$ A PRECIOS ACTUALES)  1962      298.543862   \n",
       "2563  PIB PER CAPITA (US$ A PRECIOS ACTUALES)  1963      282.588330   \n",
       "2564  PIB PER CAPITA (US$ A PRECIOS ACTUALES)  1964      338.675935   \n",
       "...                                       ...   ...             ...   \n",
       "2619  PIB PER CAPITA (US$ A PRECIOS ACTUALES)  2019     6472.545449   \n",
       "2620  PIB PER CAPITA (US$ A PRECIOS ACTUALES)  2020     5339.687114   \n",
       "2621  PIB PER CAPITA (US$ A PRECIOS ACTUALES)  2021     6222.621644   \n",
       "2622  PIB PER CAPITA (US$ A PRECIOS ACTUALES)  2022     6674.596019   \n",
       "2623  PIB PER CAPITA (US$ A PRECIOS ACTUALES)  2023     6947.359287   \n",
       "\n",
       "      gdp_variation  \n",
       "2560       0.000000  \n",
       "2561       1.896465  \n",
       "2562       2.212350  \n",
       "2563       0.179782  \n",
       "2564       3.015247  \n",
       "...             ...  \n",
       "2619       1.360141  \n",
       "2620      -8.509495  \n",
       "2621       9.592978  \n",
       "2622       6.148825  \n",
       "2623       0.000000  \n",
       "\n",
       "[64 rows x 10 columns]"
      ]
     },
     "execution_count": 48,
     "metadata": {},
     "output_type": "execute_result"
    }
   ],
   "source": [
    "df_data_col = df_data[df_data['country_name'] == country]\n",
    "\n",
    "df_data_col"
   ]
  },
  {
   "cell_type": "code",
   "execution_count": 49,
   "metadata": {},
   "outputs": [
    {
     "data": {
      "text/html": [
       "<div>\n",
       "<style scoped>\n",
       "    .dataframe tbody tr th:only-of-type {\n",
       "        vertical-align: middle;\n",
       "    }\n",
       "\n",
       "    .dataframe tbody tr th {\n",
       "        vertical-align: top;\n",
       "    }\n",
       "\n",
       "    .dataframe thead th {\n",
       "        text-align: right;\n",
       "    }\n",
       "</style>\n",
       "<table border=\"1\" class=\"dataframe\">\n",
       "  <thead>\n",
       "    <tr style=\"text-align: right;\">\n",
       "      <th></th>\n",
       "      <th>year</th>\n",
       "      <th>gdp_per_capita</th>\n",
       "      <th>gdp_variation</th>\n",
       "    </tr>\n",
       "  </thead>\n",
       "  <tbody>\n",
       "    <tr>\n",
       "      <th>count</th>\n",
       "      <td>64.000000</td>\n",
       "      <td>64.000000</td>\n",
       "      <td>64.000000</td>\n",
       "    </tr>\n",
       "    <tr>\n",
       "      <th>mean</th>\n",
       "      <td>1991.500000</td>\n",
       "      <td>2731.889172</td>\n",
       "      <td>2.008014</td>\n",
       "    </tr>\n",
       "    <tr>\n",
       "      <th>std</th>\n",
       "      <td>18.618987</td>\n",
       "      <td>2506.356952</td>\n",
       "      <td>2.616869</td>\n",
       "    </tr>\n",
       "    <tr>\n",
       "      <th>min</th>\n",
       "      <td>1960.000000</td>\n",
       "      <td>258.304434</td>\n",
       "      <td>-8.509495</td>\n",
       "    </tr>\n",
       "    <tr>\n",
       "      <th>25%</th>\n",
       "      <td>1975.750000</td>\n",
       "      <td>622.530445</td>\n",
       "      <td>0.663600</td>\n",
       "    </tr>\n",
       "    <tr>\n",
       "      <th>50%</th>\n",
       "      <td>1991.500000</td>\n",
       "      <td>1614.687507</td>\n",
       "      <td>2.058611</td>\n",
       "    </tr>\n",
       "    <tr>\n",
       "      <th>75%</th>\n",
       "      <td>2007.250000</td>\n",
       "      <td>4890.187841</td>\n",
       "      <td>3.376503</td>\n",
       "    </tr>\n",
       "    <tr>\n",
       "      <th>max</th>\n",
       "      <td>2023.000000</td>\n",
       "      <td>8279.102556</td>\n",
       "      <td>9.592978</td>\n",
       "    </tr>\n",
       "  </tbody>\n",
       "</table>\n",
       "</div>"
      ],
      "text/plain": [
       "              year  gdp_per_capita  gdp_variation\n",
       "count    64.000000       64.000000      64.000000\n",
       "mean   1991.500000     2731.889172       2.008014\n",
       "std      18.618987     2506.356952       2.616869\n",
       "min    1960.000000      258.304434      -8.509495\n",
       "25%    1975.750000      622.530445       0.663600\n",
       "50%    1991.500000     1614.687507       2.058611\n",
       "75%    2007.250000     4890.187841       3.376503\n",
       "max    2023.000000     8279.102556       9.592978"
      ]
     },
     "execution_count": 49,
     "metadata": {},
     "output_type": "execute_result"
    }
   ],
   "source": [
    "df_data_col.describe()"
   ]
  },
  {
   "cell_type": "markdown",
   "metadata": {},
   "source": [
    "### GDP Per Capita Evolution of Colombia"
   ]
  },
  {
   "cell_type": "code",
   "execution_count": 50,
   "metadata": {},
   "outputs": [
    {
     "data": {
      "text/html": [
       "<iframe\n",
       "    scrolling=\"no\"\n",
       "    width=\"100%\"\n",
       "    height=\"820\"\n",
       "    src=\"iframe_figures/figure_50.html\"\n",
       "    frameborder=\"0\"\n",
       "    allowfullscreen\n",
       "></iframe>\n"
      ]
     },
     "metadata": {},
     "output_type": "display_data"
    }
   ],
   "source": [
    "fig = px.line(df_data_col,\n",
    "              x='year',\n",
    "              y='gdp_per_capita',\n",
    "              markers=True,\n",
    "              )\n",
    "\n",
    "z = np.polyfit(df_data_col['year'], df_data_col['gdp_per_capita'], 1)  # Ajuste lineal (grado 1)\n",
    "p = np.poly1d(z)\n",
    "\n",
    "# Agregar la línea de tendencia al gráfico\n",
    "fig.add_trace(go.Scatter(x=df_data_col['year'],\n",
    "                         y=p(df_data_col['year']),\n",
    "                         mode='lines',\n",
    "                         name='Tendencia',\n",
    "                         line=dict(color='red')))\n",
    "\n",
    "fig.update_layout(title='GDP Per Capita of Colombia from 1960',\n",
    "                  height=height)\n",
    "\n",
    "if kaggle:\n",
    "    fig.show(renderer='iframe_connected')\n",
    "else:\n",
    "    fig.show()"
   ]
  },
  {
   "cell_type": "code",
   "execution_count": 51,
   "metadata": {},
   "outputs": [
    {
     "data": {
      "text/html": [
       "<iframe\n",
       "    scrolling=\"no\"\n",
       "    width=\"100%\"\n",
       "    height=\"820\"\n",
       "    src=\"iframe_figures/figure_51.html\"\n",
       "    frameborder=\"0\"\n",
       "    allowfullscreen\n",
       "></iframe>\n"
      ]
     },
     "metadata": {},
     "output_type": "display_data"
    }
   ],
   "source": [
    "fig = px.bar(df_data_col,\n",
    "              x='year',\n",
    "              y='gdp_variation',\n",
    "              color='gdp_variation',\n",
    "              color_continuous_scale='viridis'\n",
    "              )\n",
    "\n",
    "fig.update_layout(title='GDP Per Capita of Colombia from 1960',\n",
    "                  height=height)\n",
    "\n",
    "if kaggle:\n",
    "    fig.show(renderer='iframe_connected')\n",
    "else:\n",
    "    fig.show()"
   ]
  },
  {
   "cell_type": "code",
   "execution_count": 52,
   "metadata": {},
   "outputs": [],
   "source": [
    "df_data_col = pd.merge(df_data_col,\n",
    "                       df_presidentes,\n",
    "                       left_on='year',\n",
    "                       right_on='año',\n",
    "                       how='inner')\n",
    "\n",
    "df_data_col = df_data_col[['country_name',\n",
    "                           'presidente',\n",
    "                           'year',\n",
    "                           'gdp_per_capita',\n",
    "                           'gdp_variation']]"
   ]
  },
  {
   "cell_type": "code",
   "execution_count": 53,
   "metadata": {},
   "outputs": [
    {
     "data": {
      "text/html": [
       "<iframe\n",
       "    scrolling=\"no\"\n",
       "    width=\"100%\"\n",
       "    height=\"820\"\n",
       "    src=\"iframe_figures/figure_53.html\"\n",
       "    frameborder=\"0\"\n",
       "    allowfullscreen\n",
       "></iframe>\n"
      ]
     },
     "metadata": {},
     "output_type": "display_data"
    }
   ],
   "source": [
    "fig = px.bar(df_data_col,\n",
    "             x='year',\n",
    "             y='gdp_per_capita',\n",
    "             color='presidente')\n",
    "\n",
    "fig.update_layout(title='GDP Per Capita of Colombia by Presidential Periods',\n",
    "                  height=height)\n",
    "\n",
    "\n",
    "if kaggle:\n",
    "    fig.show(renderer='iframe_connected')\n",
    "else:\n",
    "    fig.show()"
   ]
  },
  {
   "cell_type": "code",
   "execution_count": 54,
   "metadata": {},
   "outputs": [
    {
     "data": {
      "text/html": [
       "<iframe\n",
       "    scrolling=\"no\"\n",
       "    width=\"100%\"\n",
       "    height=\"820\"\n",
       "    src=\"iframe_figures/figure_54.html\"\n",
       "    frameborder=\"0\"\n",
       "    allowfullscreen\n",
       "></iframe>\n"
      ]
     },
     "metadata": {},
     "output_type": "display_data"
    }
   ],
   "source": [
    "fig = px.bar(df_data_col,\n",
    "              x='year',\n",
    "              y='gdp_variation',\n",
    "              color='presidente',\n",
    "              )\n",
    "\n",
    "fig.update_layout(title='GDP Per Capita of Colombia from 1960',\n",
    "                  height=height)\n",
    "\n",
    "if kaggle:\n",
    "    fig.show(renderer='iframe_connected')\n",
    "else:\n",
    "    fig.show()"
   ]
  },
  {
   "cell_type": "code",
   "execution_count": 55,
   "metadata": {},
   "outputs": [
    {
     "data": {
      "text/html": [
       "<iframe\n",
       "    scrolling=\"no\"\n",
       "    width=\"100%\"\n",
       "    height=\"820\"\n",
       "    src=\"iframe_figures/figure_55.html\"\n",
       "    frameborder=\"0\"\n",
       "    allowfullscreen\n",
       "></iframe>\n"
      ]
     },
     "metadata": {},
     "output_type": "display_data"
    }
   ],
   "source": [
    "fig = px.box(df_data_col,\n",
    "             x='presidente',\n",
    "             y='gdp_per_capita',\n",
    "             color='presidente')\n",
    "\n",
    "fig.update_layout(title='GDP Per Capita By Presidents',\n",
    "                  height=height)\n",
    "\n",
    "if kaggle:\n",
    "    fig.show(renderer='iframe_connected')\n",
    "else:\n",
    "    fig.show()"
   ]
  },
  {
   "cell_type": "markdown",
   "metadata": {},
   "source": [
    "### Making Prediction of GDP Percapita to 2024 and 2025"
   ]
  },
  {
   "cell_type": "code",
   "execution_count": 56,
   "metadata": {},
   "outputs": [],
   "source": [
    "from sklearn.model_selection import train_test_split\n",
    "from sklearn.linear_model import LinearRegression\n",
    "from sklearn.metrics import mean_absolute_error, mean_squared_error\n",
    "\n",
    "df_model = df_data_col[['year',\n",
    "                        'gdp_per_capita',\n",
    "                        'gdp_variation']]\n",
    "\n",
    "X = df_model[['year']]\n",
    "y = df_model[['gdp_per_capita']]\n",
    "\n",
    "X_train, X_test, y_train, y_test = train_test_split(X, y, test_size=0.2, random_state=42)"
   ]
  },
  {
   "cell_type": "code",
   "execution_count": 57,
   "metadata": {},
   "outputs": [
    {
     "name": "stdout",
     "output_type": "stream",
     "text": [
      "MAE: 841.70, RMSE: 1125.81\n"
     ]
    }
   ],
   "source": [
    "lineal_model = LinearRegression()\n",
    "lineal_model.fit(X_train, y_train)\n",
    "\n",
    "y_pred = lineal_model.predict(X_test)\n",
    "\n",
    "mae = mean_absolute_error(y_test, y_pred)\n",
    "mse = mean_squared_error(y_test, y_pred)\n",
    "rmse = mse ** 0.5\n",
    "\n",
    "print(f\"MAE: {mae:.2f}, RMSE: {rmse:.2f}\")"
   ]
  },
  {
   "cell_type": "code",
   "execution_count": 58,
   "metadata": {},
   "outputs": [
    {
     "name": "stdout",
     "output_type": "stream",
     "text": [
      "Predicción PIB per cápita 2024: 6678.7786953804025\n",
      "Predicción PIB per cápita 2025: 6801.551709506253\n"
     ]
    },
    {
     "name": "stderr",
     "output_type": "stream",
     "text": [
      "c:\\Users\\NMH\\AppData\\Local\\Programs\\Python\\Python313\\Lib\\site-packages\\sklearn\\utils\\validation.py:2739: UserWarning:\n",
      "\n",
      "X does not have valid feature names, but LinearRegression was fitted with feature names\n",
      "\n",
      "C:\\Users\\NMH\\AppData\\Local\\Temp\\ipykernel_9072\\1408377983.py:5: DeprecationWarning:\n",
      "\n",
      "Conversion of an array with ndim > 0 to a scalar is deprecated, and will error in future. Ensure you extract a single element from your array before performing this operation. (Deprecated NumPy 1.25.)\n",
      "\n",
      "C:\\Users\\NMH\\AppData\\Local\\Temp\\ipykernel_9072\\1408377983.py:6: DeprecationWarning:\n",
      "\n",
      "Conversion of an array with ndim > 0 to a scalar is deprecated, and will error in future. Ensure you extract a single element from your array before performing this operation. (Deprecated NumPy 1.25.)\n",
      "\n"
     ]
    }
   ],
   "source": [
    "# Predecir PIB per cápita para 2024 y 2025\n",
    "future_years = np.array([[2024], [2025]])\n",
    "future_predictions = lineal_model.predict(future_years)\n",
    "\n",
    "pred_2024 = float(future_predictions[0])\n",
    "pred_2025 = float(future_predictions[1])\n",
    "\n",
    "print(\"Predicción PIB per cápita 2024:\",pred_2024)\n",
    "print(\"Predicción PIB per cápita 2025:\",pred_2025)"
   ]
  },
  {
   "cell_type": "code",
   "execution_count": 59,
   "metadata": {},
   "outputs": [],
   "source": [
    "df_pred = pd.DataFrame({\n",
    "    'year':[2024,2025],\n",
    "    'gdp_per_capita':[pred_2024,pred_2025],\n",
    "    \"gdp_min\": [pred_2024 - mae, pred_2025 - mae],\n",
    "    \"gdp_max\": [pred_2024 + mae, pred_2025 + mae],\n",
    "    'type':'prediction'\n",
    "})"
   ]
  },
  {
   "cell_type": "code",
   "execution_count": 60,
   "metadata": {},
   "outputs": [
    {
     "data": {
      "text/html": [
       "<iframe\n",
       "    scrolling=\"no\"\n",
       "    width=\"100%\"\n",
       "    height=\"820\"\n",
       "    src=\"iframe_figures/figure_60.html\"\n",
       "    frameborder=\"0\"\n",
       "    allowfullscreen\n",
       "></iframe>\n"
      ]
     },
     "metadata": {},
     "output_type": "display_data"
    }
   ],
   "source": [
    "import plotly.express as px\n",
    "import pandas as pd\n",
    "\n",
    "# Datos reales\n",
    "df_real = df_data_col.copy()\n",
    "df_real[\"type\"] = \"PIB Real\"  # Etiqueta para diferenciar\n",
    "\n",
    "# Unimos los dos dataframes\n",
    "df_final = pd.concat([df_real, df_pred])\n",
    "\n",
    "# Crear gráfico con Plotly Express\n",
    "fig = px.line(\n",
    "    df_final, \n",
    "    x=\"year\", \n",
    "    y=\"gdp_per_capita\", \n",
    "    color=\"type\",\n",
    "    markers=True,\n",
    "    line_dash=\"type\",  # Diferencia con línea continua y punteada\n",
    "    title=\"Evolución del PIB per cápita de Colombia (1960-2025)\",\n",
    "    labels={\"year\": \"Año\", \"gdp_per_capita\": \"PIB per cápita (USD)\", \"type\": \"Tipo de dato\"},\n",
    "    template=\"plotly_white\"\n",
    ")\n",
    "\n",
    "# Agregar banda de incertidumbre (sombra)\n",
    "fig.add_trace(\n",
    "    px.line(df_pred, x=\"year\", y=\"gdp_min\").data[0].update(name=\"Mínimo Predicho\", line=dict(color='gray', dash='dot'))\n",
    ")\n",
    "fig.add_trace(\n",
    "    px.line(df_pred, x=\"year\", y=\"gdp_max\").data[0].update(name=\"Máximo Predicho\", line=dict(color='gray', dash='dot'))\n",
    ")\n",
    "fig.add_trace(\n",
    "    px.area(df_pred, x=\"year\", y=\"gdp_max\").data[0].update(name=\"Rango de Predicción\", fill='tonexty', line=dict(color='rgba(200,200,200,0)'))\n",
    ")\n",
    "\n",
    "fig.update_layout(height=height)\n",
    "\n",
    "# Mostrar el gráfico\n",
    "if kaggle:\n",
    "    fig.show(renderer='iframe_connected')\n",
    "else:\n",
    "    fig.show()\n"
   ]
  },
  {
   "cell_type": "code",
   "execution_count": null,
   "metadata": {},
   "outputs": [],
   "source": []
  }
 ],
 "metadata": {
  "kernelspec": {
   "display_name": "Python 3",
   "language": "python",
   "name": "python3"
  },
  "language_info": {
   "codemirror_mode": {
    "name": "ipython",
    "version": 3
   },
   "file_extension": ".py",
   "mimetype": "text/x-python",
   "name": "python",
   "nbconvert_exporter": "python",
   "pygments_lexer": "ipython3",
   "version": "3.13.1"
  }
 },
 "nbformat": 4,
 "nbformat_minor": 2
}
