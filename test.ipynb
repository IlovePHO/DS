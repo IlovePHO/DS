{
 "cells": [
  {
   "cell_type": "code",
   "execution_count": 1,
   "metadata": {},
   "outputs": [
    {
     "name": "stdout",
     "output_type": "stream",
     "text": [
      "First Vector      : [5 6 9]\n",
      "Second Vector       : [1 2 3]\n",
      "Vector Addition        : [ 6  8 12]\n",
      "Vector Multiplication              : [ 5 12 27]\n",
      "Vector Division          : [5. 3. 3.]\n"
     ]
    }
   ],
   "source": [
    "import numpy as np\n",
    "\n",
    "list1 = [5,6,9]\n",
    "list2 = [1,2,3]\n",
    "\n",
    "vector1 = np.array(list1)\n",
    "print(\"First Vector      : \" + str(vector1))\n",
    "\n",
    "vector2 = np.array(list2)\n",
    "\n",
    "print(\"Second Vector       : \" + str(vector2))\n",
    "\n",
    "addition = vector1 + vector2\n",
    "\n",
    "print(\"Vector Addition        : \" + str(addition))\n",
    "\n",
    "subtraction = vector1 - vector2\n",
    "\n",
    "multiplication = vector1 * vector2\n",
    "\n",
    "print(\"Vector Multiplication              : \" + str(multiplication))\n",
    "\n",
    "division = vector1 / vector2\n",
    "\n",
    "print(\"Vector Division          : \" + str(division))"
   ]
  },
  {
   "cell_type": "code",
   "execution_count": null,
   "metadata": {},
   "outputs": [],
   "source": []
  }
 ],
 "metadata": {
  "kernelspec": {
   "display_name": "Python 3",
   "language": "python",
   "name": "python3"
  },
  "language_info": {
   "codemirror_mode": {
    "name": "ipython",
    "version": 3
   },
   "file_extension": ".py",
   "mimetype": "text/x-python",
   "name": "python",
   "nbconvert_exporter": "python",
   "pygments_lexer": "ipython3",
   "version": "3.12.9"
  }
 },
 "nbformat": 4,
 "nbformat_minor": 2
}
